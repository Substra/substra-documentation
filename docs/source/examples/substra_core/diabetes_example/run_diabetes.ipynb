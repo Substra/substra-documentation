{
 "cells": [
  {
   "cell_type": "markdown",
   "metadata": {},
   "source": [
    "# Federated Analytics on the diabetes dataset\n",
    "\n",
    "This example demonstrates how to use the flexibility of the Substra library to do Federated Analytics.\n",
    "\n",
    "We use the **Diabetes dataset** available from the [Scikit-Learn dataset module](https://scikit-learn.org/stable/datasets/toy_dataset.html#diabetes-dataset).\n",
    "This dataset contains medical information such as Age, Sex or Blood pressure.\n",
    "The goal of this example is to compute some analytics such as Age mean, Blood pressure standard deviation or Sex percentage.\n",
    "\n",
    "We simulate having two different data organisations, and a third organisation which wants to compute aggregated analytics\n",
    "without having access to the raw data. The example here runs everything locally; however there is only one parameter to\n",
    "change to run it on a real network.\n",
    "\n",
    "**Caution:**\n",
    " This example is provided as an illustrative example only. In real life, you should be careful not to\n",
    " accidentally leak private information when doing Federated Analytics. For example if a column contains very similar values,\n",
    " sharing its mean and its standard deviation is functionally equivalent to sharing the content of the column.\n",
    " It is **strongly recommended** to consider what are the potential security risks in your use case, and to act accordingly.\n",
    " It is possible to use other privacy-preserving techniques, such as\n",
    " [Differential Privacy](https://en.wikipedia.org/wiki/Differential_privacy), in addition to Substra.\n",
    " Because the focus of this example is Substra capabilities and for the sake of simplicity, such safeguards are not implemented here.\n",
    "\n",
    "\n",
    "To run this example, you need to download and unzip the assets needed to run it in the same directory as used this example:\n",
    "\n",
    "- [assets required to run this example](../../../tmp/diabetes_assets.zip)\n",
    "\n",
    "Please ensure to have all the libraries installed. A *requirements.txt* file is included in the zip file, where you can run the command `pip install -r requirements.txt` to install them.\n"
   ]
  },
  {
   "cell_type": "markdown",
   "metadata": {},
   "source": [
    "## Importing all the dependencies"
   ]
  },
  {
   "cell_type": "code",
   "execution_count": null,
   "metadata": {},
   "outputs": [],
   "source": [
    "import os\n",
    "import zipfile\n",
    "import pathlib\n",
    "\n",
    "import substra\n",
    "from substra.sdk.schemas import (\n",
    "    FunctionSpec,\n",
    "    FunctionInputSpec,\n",
    "    FunctionOutputSpec,\n",
    "    AssetKind,\n",
    "    DataSampleSpec,\n",
    "    DatasetSpec,\n",
    "    Permissions,\n",
    "    TaskSpec,\n",
    "    ComputeTaskOutputSpec,\n",
    "    InputRef,\n",
    ")\n",
    "\n",
    "\n",
    "from assets.dataset.diabetes_dataset import setup_diabetes"
   ]
  },
  {
   "cell_type": "markdown",
   "metadata": {},
   "source": [
    "## Instantiating the Substra clients\n",
    "\n",
    "We work with three different organizations.\n",
    "Two organizations provide data, and a third one performs Federate Analytics to compute aggregated statistics without\n",
    "having access to the raw datasets.\n",
    "\n",
    "This example runs in local mode, simulating a federated learning experiment."
   ]
  },
  {
   "cell_type": "code",
   "execution_count": null,
   "metadata": {},
   "outputs": [],
   "source": [
    "# Choose the subprocess mode to locally simulate the FL process\n",
    "N_CLIENTS = 3\n",
    "clients_list = [substra.Client(client_name=f\"org-{i+1}\") for i in range(N_CLIENTS)]\n",
    "clients = {client.organization_info().organization_id: client for client in clients_list}\n",
    "\n",
    "# Store organization IDs\n",
    "ORGS_ID = list(clients)\n",
    "\n",
    "# The provider of the functions for computing analytics is defined as the first organization.\n",
    "ANALYTICS_PROVIDER_ORG_ID = ORGS_ID[0]\n",
    "# Data providers orgs are the two last organizations.\n",
    "DATA_PROVIDER_ORGS_ID = ORGS_ID[1:]"
   ]
  },
  {
   "cell_type": "markdown",
   "metadata": {},
   "source": [
    "### Creating and registering the assets\n",
    "\n",
    "Every asset will be created in respect to predefined schemas (Spec) previously imported from\n",
    "`substra.sdk.schemas`. To register assets, the [schemas](https://docs.substra.org/en/stable/documentation/references/sdk_schemas.html#schemas)\n",
    "are first instantiated and the specs are then registered, which generate the real assets.\n",
    "\n",
    "Permissions are defined when registering assets. In a nutshell:\n",
    "\n",
    "- Data cannot be seen once it's registered on the platform.\n",
    "- Metadata are visible by all the users of a network.\n",
    "- Permissions allow you to execute a function on a certain dataset."
   ]
  },
  {
   "cell_type": "code",
   "execution_count": null,
   "metadata": {},
   "outputs": [],
   "source": [
    "permissions_local = Permissions(public=False, authorized_ids=DATA_PROVIDER_ORGS_ID)\n",
    "permissions_aggregation = Permissions(public=False, authorized_ids=[ANALYTICS_PROVIDER_ORG_ID])"
   ]
  },
  {
   "cell_type": "markdown",
   "metadata": {},
   "source": [
    "Next, we need to define the asset directory. You should have already downloaded the assets folder as stated above.\n",
    "\n",
    "The function `setup_diabetes` downloads if needed the *diabetes* dataset, and split it in two. Each data organisation\n",
    "has access to a chunk of the dataset."
   ]
  },
  {
   "cell_type": "code",
   "execution_count": null,
   "metadata": {},
   "outputs": [],
   "source": [
    "root_dir = pathlib.Path.cwd()\n",
    "assets_directory = root_dir / \"assets\"\n",
    "assert assets_directory.is_dir(), \"\"\"Did not find the asset directory,\n",
    "a directory called 'assets' is expected in the same location as this file\"\"\"\n",
    "\n",
    "data_path = assets_directory / \"data\"\n",
    "data_path.mkdir(exist_ok=True)\n",
    "\n",
    "setup_diabetes(data_path=data_path)"
   ]
  },
  {
   "cell_type": "markdown",
   "metadata": {},
   "source": [
    "### Registering data samples and dataset\n",
    "\n",
    "A dataset represents the data in Substra. It contains some metadata and an *opener*, a script used to load the\n",
    "data from files into memory. You can find more details about datasets\n",
    "in the [API reference DatasetSpec](https://docs.substra.org/en/stable/documentation/references/sdk_schemas.html#datasetspec).\n",
    "\n",
    "\n"
   ]
  },
  {
   "cell_type": "code",
   "execution_count": null,
   "metadata": {},
   "outputs": [],
   "source": [
    "dataset = DatasetSpec(\n",
    "    name=f\"Diabetes dataset\",\n",
    "    type=\"csv\",\n",
    "    data_opener=assets_directory / \"dataset\" / \"diabetes_opener.py\",\n",
    "    description=data_path / \"description.md\",\n",
    "    permissions=permissions_local,\n",
    "    logs_permission=permissions_local,\n",
    ")\n",
    "\n",
    "# We register the dataset for each of the organisations\n",
    "dataset_keys = {client_id: clients[client_id].add_dataset(dataset) for client_id in DATA_PROVIDER_ORGS_ID}\n",
    "\n",
    "for client_id, key in dataset_keys.items():\n",
    "    print(f\"Dataset key for {client_id}: {key}\")"
   ]
  },
  {
   "cell_type": "markdown",
   "metadata": {},
   "source": [
    "The dataset object itself is an empty shell. Data samples are needed in order to add actual data.\n",
    "A data sample contains subfolders containing a single data file like a CSV and the key identifying\n",
    "the dataset it is linked to.\n",
    "\n",
    "\n"
   ]
  },
  {
   "cell_type": "code",
   "execution_count": null,
   "metadata": {},
   "outputs": [],
   "source": [
    "datasample_keys = {\n",
    "    org_id: clients[org_id].add_data_sample(\n",
    "        DataSampleSpec(\n",
    "            data_manager_keys=[dataset_keys[org_id]],\n",
    "            test_only=False,\n",
    "            path=data_path / f\"org_{i + 1}\",\n",
    "        ),\n",
    "        local=True,\n",
    "    )\n",
    "    for i, org_id in enumerate(DATA_PROVIDER_ORGS_ID)\n",
    "}"
   ]
  },
  {
   "cell_type": "markdown",
   "metadata": {},
   "source": [
    "The data has now been added as an asset through the data samples.\n",
    "\n",
    "\n"
   ]
  },
  {
   "cell_type": "markdown",
   "metadata": {},
   "source": [
    "## Adding functions to execute with Substra\n",
    "\n",
    "A [Substra function](https://docs.substra.org/en/stable/documentation/references/sdk_schemas.html#functionspec)\n",
    "specifies the function to apply to a dataset or the function to aggregate models (artifacts).\n",
    "Concretely, a function corresponds to an archive (tar or zip file) containing:\n",
    "\n",
    "- One or more Python scripts that implement the function.\n",
    "- A Dockerfile on which the user can specify the required dependencies of the Python scripts.\n",
    "  This Dockerfile also specifies the function name to execute.\n",
    "\n",
    "In this example, we will:\n",
    "\n",
    "1. compute prerequisites for first-moment statistics on each data organization;\n",
    "2. aggregate these values on the analytics computation organization to get aggregated statistics;\n",
    "3. send these aggregated values to the data organizations, in order to compute second-moment prerequisite values;\n",
    "4. finally, aggregate these values to get second-moment aggregated statistics."
   ]
  },
  {
   "cell_type": "markdown",
   "metadata": {},
   "source": [
    "### Local step: computing first order statistic moments\n",
    "\n",
    "First, we will compute on each data node some aggregated values: number of samples, sum of each numerical column\n",
    "(it will be used to compute the mean), and counts for each category for the categorical column (*Sex*).\n",
    "\n",
    "The computation is implemented in a *Python function* in the `federated_analytics_functions.py` file.\n",
    "We also write a `Dockerfile` to define the entrypoint, and we wrap everything in a Substra [FunctionSpec](https://docs.substra.org/en/stable/documentation/references/sdk_schemas.html#functionspec) object.\n",
    "\n",
    "If you're running this example in a Notebook, you can uncomment and execute the next cell to see what code is executed\n",
    "on each data node.\n",
    "\n"
   ]
  },
  {
   "cell_type": "code",
   "execution_count": null,
   "metadata": {},
   "outputs": [],
   "source": [
    "# %load -s local_first_order_computation assets/functions/federated_analytics_functions.py"
   ]
  },
  {
   "cell_type": "code",
   "execution_count": null,
   "metadata": {},
   "outputs": [],
   "source": [
    "local_first_order_computation_docker_files = [\n",
    "    assets_directory / \"functions\" / \"federated_analytics_functions.py\",\n",
    "    assets_directory / \"functions\" / \"local_first_order_computation\" / \"Dockerfile\",\n",
    "]\n",
    "\n",
    "local_archive_first_order_computation_path = assets_directory / \"functions\" / \"local_first_order_analytics.zip\"\n",
    "with zipfile.ZipFile(local_archive_first_order_computation_path, \"w\") as z:\n",
    "    for filepath in local_first_order_computation_docker_files:\n",
    "        z.write(filepath, arcname=os.path.basename(filepath))\n",
    "\n",
    "local_first_order_function_inputs = [\n",
    "    FunctionInputSpec(\n",
    "        identifier=\"datasamples\",\n",
    "        kind=AssetKind.data_sample,\n",
    "        optional=False,\n",
    "        multiple=True,\n",
    "    ),\n",
    "    FunctionInputSpec(identifier=\"opener\", kind=AssetKind.data_manager, optional=False, multiple=False),\n",
    "]\n",
    "\n",
    "local_first_order_function_outputs = [\n",
    "    FunctionOutputSpec(identifier=\"local_analytics_first_moments\", kind=AssetKind.model, multiple=False)\n",
    "]\n",
    "\n",
    "local_first_order_function = FunctionSpec(\n",
    "    name=\"Local Federated Analytics - step 1\",\n",
    "    inputs=local_first_order_function_inputs,\n",
    "    outputs=local_first_order_function_outputs,\n",
    "    description=assets_directory / \"functions\" / \"description.md\",\n",
    "    file=local_archive_first_order_computation_path,\n",
    "    permissions=permissions_local,\n",
    ")\n",
    "\n",
    "\n",
    "local_first_order_function_keys = {\n",
    "    client_id: clients[client_id].add_function(local_first_order_function) for client_id in DATA_PROVIDER_ORGS_ID\n",
    "}\n",
    "\n",
    "print(f\"Local function key for step 1: computing first order moments {local_first_order_function_keys}\")"
   ]
  },
  {
   "cell_type": "markdown",
   "metadata": {},
   "source": [
    "### First aggregation step\n",
    "\n",
    "In a similar way, we define the [FunctionSpec](https://docs.substra.org/en/stable/documentation/references/sdk_schemas.html#functionspec) for the aggregation node.\n",
    "\n"
   ]
  },
  {
   "cell_type": "code",
   "execution_count": null,
   "metadata": {},
   "outputs": [],
   "source": [
    "# %load -s aggregation assets/functions/federated_analytics_functions.py"
   ]
  },
  {
   "cell_type": "code",
   "execution_count": null,
   "metadata": {},
   "outputs": [],
   "source": [
    "aggregate_function_docker_files = [\n",
    "    assets_directory / \"functions\" / \"federated_analytics_functions.py\",\n",
    "    assets_directory / \"functions\" / \"aggregation\" / \"Dockerfile\",\n",
    "]\n",
    "\n",
    "aggregate_archive_path = assets_directory / \"functions\" / \"aggregate_function_analytics.zip\"\n",
    "with zipfile.ZipFile(aggregate_archive_path, \"w\") as z:\n",
    "    for filepath in aggregate_function_docker_files:\n",
    "        z.write(filepath, arcname=os.path.basename(filepath))\n",
    "\n",
    "aggregate_function_inputs = [\n",
    "    FunctionInputSpec(\n",
    "        identifier=\"local_analytics_list\",\n",
    "        kind=AssetKind.model,\n",
    "        optional=False,\n",
    "        multiple=True,\n",
    "    ),\n",
    "]\n",
    "\n",
    "aggregate_function_outputs = [FunctionOutputSpec(identifier=\"shared_states\", kind=AssetKind.model, multiple=False)]\n",
    "\n",
    "aggregate_function = FunctionSpec(\n",
    "    name=\"Aggregate Federated Analytics\",\n",
    "    inputs=aggregate_function_inputs,\n",
    "    outputs=aggregate_function_outputs,\n",
    "    description=assets_directory / \"functions\" / \"description.md\",\n",
    "    file=aggregate_archive_path,\n",
    "    permissions=permissions_aggregation,\n",
    ")\n",
    "\n",
    "\n",
    "aggregate_function_key = clients[ANALYTICS_PROVIDER_ORG_ID].add_function(aggregate_function)\n",
    "\n",
    "print(f\"Aggregation function key {aggregate_function_key}\")"
   ]
  },
  {
   "cell_type": "markdown",
   "metadata": {},
   "source": [
    "### Local step: computing second order statistic moments\n",
    "\n",
    "We also register the function for the second round of computations happening locally on the data nodes.\n",
    "\n",
    "Both aggregation steps will use the same function, so we don't need to register it again.\n",
    "\n"
   ]
  },
  {
   "cell_type": "code",
   "execution_count": null,
   "metadata": {},
   "outputs": [],
   "source": [
    "# %load -s local_second_order_computation assets/functions/federated_analytics_functions.py"
   ]
  },
  {
   "cell_type": "code",
   "execution_count": null,
   "metadata": {},
   "outputs": [],
   "source": [
    "local_second_order_computation_docker_files = [\n",
    "    assets_directory / \"functions\" / \"federated_analytics_functions.py\",\n",
    "    assets_directory / \"functions\" / \"local_second_order_computation\" / \"Dockerfile\",\n",
    "]\n",
    "\n",
    "local_archive_second_order_computation_path = assets_directory / \"functions\" / \"local_function_analytics.zip\"\n",
    "with zipfile.ZipFile(local_archive_second_order_computation_path, \"w\") as z:\n",
    "    for filepath in local_second_order_computation_docker_files:\n",
    "        z.write(filepath, arcname=os.path.basename(filepath))\n",
    "\n",
    "local_second_order_function_inputs = [\n",
    "    FunctionInputSpec(\n",
    "        identifier=\"datasamples\",\n",
    "        kind=AssetKind.data_sample,\n",
    "        optional=False,\n",
    "        multiple=True,\n",
    "    ),\n",
    "    FunctionInputSpec(identifier=\"opener\", kind=AssetKind.data_manager, optional=False, multiple=False),\n",
    "    FunctionInputSpec(identifier=\"shared_states\", kind=AssetKind.model, optional=False, multiple=False),\n",
    "]\n",
    "\n",
    "local_second_order_function_outputs = [\n",
    "    FunctionOutputSpec(\n",
    "        identifier=\"local_analytics_second_moments\",\n",
    "        kind=AssetKind.model,\n",
    "        multiple=False,\n",
    "    )\n",
    "]\n",
    "\n",
    "local_second_order_function = FunctionSpec(\n",
    "    name=\"Local Federated Analytics - step 2\",\n",
    "    inputs=local_second_order_function_inputs,\n",
    "    outputs=local_second_order_function_outputs,\n",
    "    description=assets_directory / \"functions\" / \"description.md\",\n",
    "    file=local_archive_second_order_computation_path,\n",
    "    permissions=permissions_local,\n",
    ")\n",
    "\n",
    "\n",
    "local_second_order_function_keys = {\n",
    "    client_id: clients[client_id].add_function(local_second_order_function) for client_id in DATA_PROVIDER_ORGS_ID\n",
    "}\n",
    "\n",
    "print(f\"Local function key for step 2: computing second order moments {local_second_order_function_keys}\")"
   ]
  },
  {
   "cell_type": "markdown",
   "metadata": {},
   "source": [
    "The data and the functions are now registered."
   ]
  },
  {
   "cell_type": "markdown",
   "metadata": {},
   "source": [
    "## Registering tasks in Substra\n",
    "\n",
    "The next step is to register the actual machine learning tasks."
   ]
  },
  {
   "cell_type": "code",
   "execution_count": null,
   "metadata": {},
   "outputs": [],
   "source": [
    "data_manager_input = {\n",
    "    client_id: [InputRef(identifier=\"opener\", asset_key=key)] for client_id, key in dataset_keys.items()\n",
    "}\n",
    "\n",
    "datasample_inputs = {\n",
    "    client_id: [InputRef(identifier=\"datasamples\", asset_key=key)] for client_id, key in datasample_keys.items()\n",
    "}\n",
    "\n",
    "local_task_1_keys = {\n",
    "    client_id: clients[client_id].add_task(\n",
    "        TaskSpec(\n",
    "            function_key=local_first_order_function_keys[client_id],\n",
    "            inputs=data_manager_input[client_id] + datasample_inputs[client_id],\n",
    "            outputs={\"local_analytics_first_moments\": ComputeTaskOutputSpec(permissions=permissions_aggregation)},\n",
    "            worker=client_id,\n",
    "        )\n",
    "    )\n",
    "    for client_id in DATA_PROVIDER_ORGS_ID\n",
    "}\n",
    "\n",
    "for client_id, key in local_task_1_keys.items():\n",
    "    clients[client_id].wait_task(key, raise_on_failure=True)"
   ]
  },
  {
   "cell_type": "markdown",
   "metadata": {},
   "source": [
    "In local mode (docker or subprocess), the registered task is executed at once:\n",
    "the registration function returns a value once the task has been executed.\n",
    "\n",
    "In remote mode, the registered task is added to a queue and treated asynchronously: this means that the\n",
    "code that registers the tasks keeps executing. To wait for a task to be done, create a loop and get the task\n",
    "every `n` seconds until its status is done or failed.\n",
    "\n",
    "\n"
   ]
  },
  {
   "cell_type": "code",
   "execution_count": null,
   "metadata": {},
   "outputs": [],
   "source": [
    "aggregation_1_inputs = [\n",
    "    InputRef(\n",
    "        identifier=\"local_analytics_list\",\n",
    "        parent_task_key=local_key,\n",
    "        parent_task_output_identifier=\"local_analytics_first_moments\",\n",
    "    )\n",
    "    for local_key in local_task_1_keys.values()\n",
    "]\n",
    "\n",
    "\n",
    "aggregation_task_1 = TaskSpec(\n",
    "    function_key=aggregate_function_key,\n",
    "    inputs=aggregation_1_inputs,\n",
    "    outputs={\"shared_states\": ComputeTaskOutputSpec(permissions=permissions_local)},\n",
    "    worker=ANALYTICS_PROVIDER_ORG_ID,\n",
    ")\n",
    "\n",
    "aggregation_task_1_key = clients[ANALYTICS_PROVIDER_ORG_ID].add_task(aggregation_task_1)\n",
    "\n",
    "clients[ANALYTICS_PROVIDER_ORG_ID].wait_task(aggregation_task_1_key, raise_on_failure=True)"
   ]
  },
  {
   "cell_type": "code",
   "execution_count": null,
   "metadata": {},
   "outputs": [],
   "source": [
    "shared_inputs = [\n",
    "    InputRef(\n",
    "        identifier=\"shared_states\",\n",
    "        parent_task_key=aggregation_task_1_key,\n",
    "        parent_task_output_identifier=\"shared_states\",\n",
    "    )\n",
    "]\n",
    "\n",
    "local_task_2_keys = {\n",
    "    client_id: clients[client_id].add_task(\n",
    "        TaskSpec(\n",
    "            function_key=local_second_order_function_keys[client_id],\n",
    "            inputs=data_manager_input[client_id] + datasample_inputs[client_id] + shared_inputs,\n",
    "            outputs={\"local_analytics_second_moments\": ComputeTaskOutputSpec(permissions=permissions_aggregation)},\n",
    "            worker=client_id,\n",
    "        )\n",
    "    )\n",
    "    for client_id in DATA_PROVIDER_ORGS_ID\n",
    "}\n",
    "\n",
    "for client_id, key in local_task_2_keys.items():\n",
    "    clients[client_id].wait_task(key, raise_on_failure=True)\n",
    "\n",
    "aggregation_2_inputs = [\n",
    "    InputRef(\n",
    "        identifier=\"local_analytics_list\",\n",
    "        parent_task_key=local_key,\n",
    "        parent_task_output_identifier=\"local_analytics_second_moments\",\n",
    "    )\n",
    "    for local_key in local_task_2_keys.values()\n",
    "]\n",
    "\n",
    "aggregation_task_2 = TaskSpec(\n",
    "    function_key=aggregate_function_key,\n",
    "    inputs=aggregation_2_inputs,\n",
    "    outputs={\"shared_states\": ComputeTaskOutputSpec(permissions=permissions_local)},\n",
    "    worker=ANALYTICS_PROVIDER_ORG_ID,\n",
    ")\n",
    "\n",
    "aggregation_task_2_key = clients[ANALYTICS_PROVIDER_ORG_ID].add_task(aggregation_task_2)\n",
    "\n",
    "clients[ANALYTICS_PROVIDER_ORG_ID].wait_task(aggregation_task_2_key, raise_on_failure=True)"
   ]
  },
  {
   "cell_type": "markdown",
   "metadata": {},
   "source": [
    "## Results\n",
    "\n",
    "Now we can view the results."
   ]
  },
  {
   "cell_type": "code",
   "execution_count": null,
   "metadata": {},
   "outputs": [],
   "source": [
    "import pickle\n",
    "import tempfile\n",
    "\n",
    "\n",
    "with tempfile.TemporaryDirectory() as temp_folder:\n",
    "    out_model1_file = clients[ANALYTICS_PROVIDER_ORG_ID].download_model_from_task(\n",
    "        aggregation_task_1_key, folder=temp_folder, identifier=\"shared_states\"\n",
    "    )\n",
    "    out1 = pickle.load(out_model1_file.open(\"rb\"))\n",
    "\n",
    "    out_model2_file = clients[ANALYTICS_PROVIDER_ORG_ID].download_model_from_task(\n",
    "        aggregation_task_2_key, folder=temp_folder, identifier=\"shared_states\"\n",
    "    )\n",
    "    out2 = pickle.load(out_model2_file.open(\"rb\"))\n",
    "\n",
    "print(\n",
    "    f\"\"\"Age mean: {out1['means']['age']:.2f} years\n",
    "Sex percentage:\n",
    "    Male: {100*out1['counts']['sex']['M']:.2f}%\n",
    "    Female: {100*out1['counts']['sex']['F']:.2f}%\n",
    "Blood pressure std: {out2[\"std\"][\"bp\"]:.2f} mm Hg\n",
    "\"\"\"\n",
    ")"
   ]
  }
 ],
 "metadata": {
  "kernelspec": {
   "display_name": "Python 3 (ipykernel)",
   "language": "python",
   "name": "python3"
  },
  "language_info": {
   "codemirror_mode": {
    "name": "ipython",
    "version": 3
   },
   "file_extension": ".py",
   "mimetype": "text/x-python",
   "name": "python",
   "nbconvert_exporter": "python",
   "pygments_lexer": "ipython3",
   "version": "3.11.6"
  }
 },
 "nbformat": 4,
 "nbformat_minor": 1
}
