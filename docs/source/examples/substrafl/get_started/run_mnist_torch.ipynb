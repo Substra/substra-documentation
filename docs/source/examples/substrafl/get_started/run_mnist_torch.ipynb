{
 "cells": [
  {
   "cell_type": "markdown",
   "metadata": {},
   "source": [
    "# Using Torch FedAvg on MNIST dataset\n",
    "\n",
    "This example illustrates the basic usage of SubstraFL and proposes Federated Learning using the Federated Averaging strategy\n",
    "on the [MNIST Dataset of handwritten digits](http://yann.lecun.com/exdb/mnist/) using PyTorch.\n",
    "In this example, we work on 28x28 pixel sized grayscale images. This is a classification problem\n",
    "aiming to recognize the number written on each image.\n",
    "\n",
    "SubstraFL can be used with any machine learning framework (PyTorch, Tensorflow, Scikit-Learn, etc).\n",
    "\n",
    "However a specific interface has been developed for PyTorch which makes writing PyTorch code simpler than with other frameworks. This example here uses the specific PyTorch interface.\n",
    "\n",
    "This example does not use a deployed platform of Substra and runs in local mode.\n",
    "\n",
    "To run this example, you need to download and unzip the assets needed to run it in the same directory as used this example:\n",
    "\n",
    "- [assets required to run this example](../../../tmp/torch_fedavg_assets.zip)\n",
    "\n",
    "Please ensure to have all the libraries installed. A *requirements.txt* file is included in the zip file, where you can run the command `pip install -r requirements.txt` to install them.\n",
    "\n",
    "**Substra** and **SubstraFL** should already be installed. If not, follow the instructions described [here](https://docs.substra.org/en/stable/substrafl_doc/substrafl_overview.html#installation).\n"
   ]
  },
  {
   "cell_type": "markdown",
   "metadata": {},
   "source": [
    "## Setup\n",
    "\n",
    "This example runs with three organizations. Two organizations provide datasets, while a third\n",
    "one provides the algorithm.\n",
    "\n",
    "In the following code cell, we define the different organizations needed for our FL experiment.\n",
    "\n"
   ]
  },
  {
   "cell_type": "code",
   "execution_count": null,
   "metadata": {
    "collapsed": false
   },
   "outputs": [],
   "source": [
    "from substra import Client\n",
    "\n",
    "N_CLIENTS = 3\n",
    "\n",
    "client_0 = Client(client_name=\"org-1\")\n",
    "client_1 = Client(client_name=\"org-2\")\n",
    "client_2 = Client(client_name=\"org-3\")"
   ]
  },
  {
   "cell_type": "markdown",
   "metadata": {},
   "source": [
    "Every computation will run in ``subprocess`` mode, where everything runs locally in Python\n",
    "subprocesses.\n",
    "Other backend_types are:\n",
    "\n",
    "- ``docker`` mode where computations run locally in docker containers\n",
    "- ``remote`` mode where computations run remotely (you need to have a deployed platform for that)\n",
    "\n",
    "To run in remote mode, use the following syntax:\n",
    "\n",
    "```py\n",
    "client_remote = Client(backend_type=\"remote\", url=\"MY_BACKEND_URL\", username=\"my-username\", password=\"my-password\")\n",
    "```\n",
    "\n"
   ]
  },
  {
   "cell_type": "code",
   "execution_count": null,
   "metadata": {
    "collapsed": false
   },
   "outputs": [],
   "source": [
    "# Create a dictionary to easily access each client from its human-friendly id\n",
    "clients = {\n",
    "    client_0.organization_info().organization_id: client_0,\n",
    "    client_1.organization_info().organization_id: client_1,\n",
    "    client_2.organization_info().organization_id: client_2,\n",
    "}\n",
    "\n",
    "# Store organization IDs\n",
    "ORGS_ID = list(clients)\n",
    "ALGO_ORG_ID = ORGS_ID[0]  # Algo provider is defined as the first organization.\n",
    "DATA_PROVIDER_ORGS_ID = ORGS_ID[1:]  # Data providers orgs are the two last organizations."
   ]
  },
  {
   "cell_type": "markdown",
   "metadata": {},
   "source": [
    "## Data and metrics\n",
    "\n",
    "### Data preparation\n",
    "\n",
    "This section downloads (if needed) the **MNIST dataset** using the [torchvision library](https://pytorch.org/vision/stable/index.html).\n",
    "It extracts the images from the raw files and locally creates a folder for each\n",
    "organization.\n",
    "\n",
    "Each organization will have access to half the training data and half the test data (which\n",
    "corresponds to **30,000**\n",
    "images for training and **5,000** for testing each).\n",
    "\n"
   ]
  },
  {
   "cell_type": "code",
   "execution_count": null,
   "metadata": {
    "collapsed": false
   },
   "outputs": [],
   "source": [
    "import pathlib\n",
    "from torch_fedavg_assets.dataset.mnist_dataset import setup_mnist\n",
    "\n",
    "\n",
    "# Create the temporary directory for generated data\n",
    "(pathlib.Path.cwd() / \"tmp\").mkdir(exist_ok=True)\n",
    "data_path = pathlib.Path.cwd() / \"tmp\" / \"data_mnist\"\n",
    "\n",
    "setup_mnist(data_path, len(DATA_PROVIDER_ORGS_ID))"
   ]
  },
  {
   "cell_type": "markdown",
   "metadata": {},
   "source": [
    "### Dataset registration\n",
    "\n",
    "A [Dataset](https://docs.substra.org/en/stable/documentation/concepts.html#dataset) is composed of an **opener**, which is a Python script that can load\n",
    "the data from the files in memory and a description markdown file.\n",
    "The [Dataset](https://docs.substra.org/en/stable/documentation/concepts.html#dataset) object itself does not contain the data. The proper asset that contains the\n",
    "data is the **datasample asset**.\n",
    "\n",
    "A **datasample** contains a local path to the data. A datasample can be linked to a dataset in order to add data to a\n",
    "dataset.\n",
    "\n",
    "Data privacy is a key concept for Federated Learning experiments. That is why we set\n",
    "[Permissions](https://docs.substra.org/en/stable/documentation/concepts.html#permissions) for an [Asset](https://docs.substra.org/en/stable/documentation/concepts.html#permissions) to determine how each organization\n",
    "can access a specific asset.\n",
    "\n",
    "Note that metadata such as the assets' creation date and the asset owner are visible to all the organizations of a\n",
    "network.\n",
    "\n"
   ]
  },
  {
   "cell_type": "code",
   "execution_count": null,
   "metadata": {
    "collapsed": false
   },
   "outputs": [],
   "source": [
    "from substra.sdk.schemas import DatasetSpec\n",
    "from substra.sdk.schemas import Permissions\n",
    "from substra.sdk.schemas import DataSampleSpec\n",
    "\n",
    "assets_directory = pathlib.Path.cwd() / \"torch_fedavg_assets\"\n",
    "dataset_keys = {}\n",
    "train_datasample_keys = {}\n",
    "test_datasample_keys = {}\n",
    "\n",
    "for i, org_id in enumerate(DATA_PROVIDER_ORGS_ID):\n",
    "    client = clients[org_id]\n",
    "\n",
    "    permissions_dataset = Permissions(public=False, authorized_ids=[ALGO_ORG_ID])\n",
    "\n",
    "    # DatasetSpec is the specification of a dataset. It makes sure every field\n",
    "    # is well-defined, and that our dataset is ready to be registered.\n",
    "    # The real dataset object is created in the add_dataset method.\n",
    "\n",
    "    dataset = DatasetSpec(\n",
    "        name=\"MNIST\",\n",
    "        data_opener=assets_directory / \"dataset\" / \"mnist_opener.py\",\n",
    "        description=assets_directory / \"dataset\" / \"description.md\",\n",
    "        permissions=permissions_dataset,\n",
    "        logs_permission=permissions_dataset,\n",
    "    )\n",
    "    dataset_keys[org_id] = client.add_dataset(dataset)\n",
    "    assert dataset_keys[org_id], \"Missing dataset key\"\n",
    "\n",
    "    # Add the training data on each organization.\n",
    "    data_sample = DataSampleSpec(\n",
    "        data_manager_keys=[dataset_keys[org_id]],\n",
    "        path=data_path / f\"org_{i+1}\" / \"train\",\n",
    "    )\n",
    "    train_datasample_keys[org_id] = client.add_data_sample(data_sample)\n",
    "\n",
    "    # Add the testing data on each organization.\n",
    "    data_sample = DataSampleSpec(\n",
    "        data_manager_keys=[dataset_keys[org_id]],\n",
    "        path=data_path / f\"org_{i+1}\" / \"test\",\n",
    "    )\n",
    "    test_datasample_keys[org_id] = client.add_data_sample(data_sample)"
   ]
  },
  {
   "cell_type": "markdown",
   "metadata": {},
   "source": [
    "### Metrics definition\n",
    "\n",
    "A metric is a function used to evaluate the performance of your model.\n",
    "\n",
    "To add a metric, you need to define a function that computes and returns a performance\n",
    "from the data (as returned by the opener) and the predictions of the model.\n",
    "\n",
    "When using a Torch SubstraFL algorithm, the predictions are returned by the `predict` function.\n"
   ]
  },
  {
   "cell_type": "code",
   "execution_count": null,
   "metadata": {
    "collapsed": false
   },
   "outputs": [],
   "source": [
    "from sklearn.metrics import accuracy_score\n",
    "from sklearn.metrics import roc_auc_score\n",
    "import numpy as np\n",
    "\n",
    "\n",
    "def accuracy(data_from_opener, predictions):\n",
    "    y_true = data_from_opener[\"labels\"]\n",
    "\n",
    "    return accuracy_score(y_true, np.argmax(predictions, axis=1))\n",
    "\n",
    "\n",
    "def roc_auc(data_from_opener, predictions):\n",
    "    y_true = data_from_opener[\"labels\"]\n",
    "\n",
    "    n_class = np.max(y_true) + 1\n",
    "    y_true_one_hot = np.eye(n_class)[y_true]\n",
    "\n",
    "    return roc_auc_score(y_true_one_hot, predictions)"
   ]
  },
  {
   "cell_type": "markdown",
   "metadata": {},
   "source": [
    "## Machine learning components definition\n",
    "\n",
    "This section uses the PyTorch based SubstraFL API to simplify the definition of machine learning components.\n",
    "However, SubstraFL is compatible with any machine learning framework.\n",
    "\n",
    "\n",
    "In this section, you will:\n",
    "\n",
    "- Register a model and its dependencies\n",
    "- Specify the federated learning strategy\n",
    "- Specify the training and aggregation nodes\n",
    "- Specify the test nodes\n",
    "- Actually run the computations\n",
    "\n"
   ]
  },
  {
   "cell_type": "markdown",
   "metadata": {},
   "source": [
    "### Model definition\n",
    "\n",
    "We choose to use a classic torch CNN as the model to train. The model architecture is defined by the user\n",
    "independently of SubstraFL.\n",
    "\n"
   ]
  },
  {
   "cell_type": "code",
   "execution_count": null,
   "metadata": {
    "collapsed": false
   },
   "outputs": [],
   "source": [
    "import torch\n",
    "from torch import nn\n",
    "import torch.nn.functional as F\n",
    "\n",
    "seed = 42\n",
    "torch.manual_seed(seed)\n",
    "\n",
    "\n",
    "class CNN(nn.Module):\n",
    "    def __init__(self):\n",
    "        super(CNN, self).__init__()\n",
    "        self.conv1 = nn.Conv2d(1, 32, kernel_size=5)\n",
    "        self.conv2 = nn.Conv2d(32, 32, kernel_size=5)\n",
    "        self.conv3 = nn.Conv2d(32, 64, kernel_size=5)\n",
    "        self.fc1 = nn.Linear(3 * 3 * 64, 256)\n",
    "        self.fc2 = nn.Linear(256, 10)\n",
    "\n",
    "    def forward(self, x, eval=False):\n",
    "        x = F.relu(self.conv1(x))\n",
    "        x = F.relu(F.max_pool2d(self.conv2(x), 2))\n",
    "        x = F.dropout(x, p=0.5, training=not eval)\n",
    "        x = F.relu(F.max_pool2d(self.conv3(x), 2))\n",
    "        x = F.dropout(x, p=0.5, training=not eval)\n",
    "        x = x.view(-1, 3 * 3 * 64)\n",
    "        x = F.relu(self.fc1(x))\n",
    "        x = F.dropout(x, p=0.5, training=not eval)\n",
    "        x = self.fc2(x)\n",
    "        return F.log_softmax(x, dim=1)\n",
    "\n",
    "\n",
    "model = CNN()\n",
    "optimizer = torch.optim.Adam(model.parameters(), lr=0.001)\n",
    "criterion = torch.nn.CrossEntropyLoss()"
   ]
  },
  {
   "cell_type": "markdown",
   "metadata": {},
   "source": [
    "### Specifying on how much data to train\n",
    "\n",
    "To specify on how much data to train at each round, we use the `index_generator` object.\n",
    "We specify the batch size and the number of batches (named `num_updates`) to consider for each round.\n",
    "See [Index Generator](https://docs.substra.org/en/stable/substrafl_doc/substrafl_overview.html#index-generator) for more details.\n",
    "\n"
   ]
  },
  {
   "cell_type": "code",
   "execution_count": null,
   "metadata": {
    "collapsed": false
   },
   "outputs": [],
   "source": [
    "from substrafl.index_generator import NpIndexGenerator\n",
    "\n",
    "# Number of model updates between each FL strategy aggregation.\n",
    "NUM_UPDATES = 100\n",
    "\n",
    "# Number of samples per update.\n",
    "BATCH_SIZE = 32\n",
    "\n",
    "index_generator = NpIndexGenerator(\n",
    "    batch_size=BATCH_SIZE,\n",
    "    num_updates=NUM_UPDATES,\n",
    ")"
   ]
  },
  {
   "cell_type": "markdown",
   "metadata": {},
   "source": [
    "### Torch Dataset definition\n",
    "\n",
    "This torch Dataset is used to preprocess the data using the `__getitem__` function.\n",
    "\n",
    "This torch Dataset needs to have a specific `__init__` signature, that must contain (self, data_from_opener, is_inference).\n",
    "\n",
    "The `__getitem__` function is expected to return (inputs, outputs) if `is_inference` is `False`, else only the inputs.\n",
    "This behavior can be changed by re-writing the `_local_train` or `predict` methods.\n",
    "\n"
   ]
  },
  {
   "cell_type": "code",
   "execution_count": null,
   "metadata": {
    "collapsed": false
   },
   "outputs": [],
   "source": [
    "class TorchDataset(torch.utils.data.Dataset):\n",
    "    def __init__(self, data_from_opener, is_inference: bool):\n",
    "        self.x = data_from_opener[\"images\"]\n",
    "        self.y = data_from_opener[\"labels\"]\n",
    "        self.is_inference = is_inference\n",
    "\n",
    "    def __getitem__(self, idx):\n",
    "        if self.is_inference:\n",
    "            x = torch.FloatTensor(self.x[idx][None, ...]) / 255\n",
    "            return x\n",
    "\n",
    "        else:\n",
    "            x = torch.FloatTensor(self.x[idx][None, ...]) / 255\n",
    "\n",
    "            y = torch.tensor(self.y[idx]).type(torch.int64)\n",
    "            y = F.one_hot(y, 10)\n",
    "            y = y.type(torch.float32)\n",
    "\n",
    "            return x, y\n",
    "\n",
    "    def __len__(self):\n",
    "        return len(self.x)"
   ]
  },
  {
   "cell_type": "markdown",
   "metadata": {},
   "source": [
    "### SubstraFL algo definition\n",
    "\n",
    "A SubstraFL Algo gathers all the defined elements that run locally in each organization.\n",
    "This is the only SubstraFL object that is framework specific (here PyTorch specific).\n",
    "\n",
    "The `TorchDataset` is passed **as a class** to the\n",
    "[Torch Algorithms](https://docs.substra.org/en/stable/substrafl_doc/api/algorithms.html#torch-algorithms).\n",
    "Indeed, this `TorchDataset` will be instantiated directly on the data provider organization.\n",
    "\n"
   ]
  },
  {
   "cell_type": "code",
   "execution_count": null,
   "metadata": {
    "collapsed": false
   },
   "outputs": [],
   "source": [
    "from substrafl.algorithms.pytorch import TorchFedAvgAlgo\n",
    "\n",
    "\n",
    "class TorchCNN(TorchFedAvgAlgo):\n",
    "    def __init__(self):\n",
    "        super().__init__(\n",
    "            model=model,\n",
    "            criterion=criterion,\n",
    "            optimizer=optimizer,\n",
    "            index_generator=index_generator,\n",
    "            dataset=TorchDataset,\n",
    "            seed=seed,\n",
    "            disable_gpu=True,\n",
    "        )"
   ]
  },
  {
   "cell_type": "markdown",
   "metadata": {},
   "source": [
    "### Federated Learning strategies\n",
    "\n",
    "A FL strategy specifies how to train a model on distributed data.\n",
    "The most well known strategy is the Federated Averaging strategy: train locally a model on every organization,\n",
    "then aggregate the weight updates from every organization, and then apply locally at each organization the averaged\n",
    "updates.\n",
    "\n"
   ]
  },
  {
   "cell_type": "code",
   "execution_count": null,
   "metadata": {
    "collapsed": false
   },
   "outputs": [],
   "source": [
    "from substrafl.strategies import FedAvg\n",
    "\n",
    "strategy = FedAvg(algo=TorchCNN(), metric_functions={\"Accuracy\": accuracy, \"ROC AUC\": roc_auc})"
   ]
  },
  {
   "cell_type": "markdown",
   "metadata": {},
   "source": [
    "### Where to train where to aggregate\n",
    "\n",
    "We specify on which data we want to train our model, using the [TrainDataNode](https://docs.substra.org/en/stable/substrafl_doc/api/nodes.html#traindatanode) object.\n",
    "Here we train on the two datasets that we have registered earlier.\n",
    "\n",
    "The [AggregationNode](https://docs.substra.org/en/stable/substrafl_doc/api/nodes.html#aggregationnode) specifies the organization on which the aggregation operation\n",
    "will be computed.\n",
    "\n"
   ]
  },
  {
   "cell_type": "code",
   "execution_count": null,
   "metadata": {
    "collapsed": false
   },
   "outputs": [],
   "source": [
    "from substrafl.nodes import TrainDataNode\n",
    "from substrafl.nodes import AggregationNode\n",
    "\n",
    "\n",
    "aggregation_node = AggregationNode(ALGO_ORG_ID)\n",
    "\n",
    "# Create the Train Data Nodes (or training tasks) and save them in a list\n",
    "train_data_nodes = [\n",
    "    TrainDataNode(\n",
    "        organization_id=org_id,\n",
    "        data_manager_key=dataset_keys[org_id],\n",
    "        data_sample_keys=[train_datasample_keys[org_id]],\n",
    "    )\n",
    "    for org_id in DATA_PROVIDER_ORGS_ID\n",
    "]"
   ]
  },
  {
   "cell_type": "markdown",
   "metadata": {},
   "source": [
    "### Where and when to test\n",
    "\n",
    "With the same logic as the train nodes, we create [TestDataNode](https://docs.substra.org/en/stable/substrafl_doc/api/nodes.html#testdatanode) to specify on which\n",
    "data we want to test our model.\n",
    "\n",
    "The [Evaluation Strategy](https://docs.substra.org/en/stable/substrafl_doc/api/evaluation_strategy.html) defines where and at which frequency we\n",
    "evaluate the model, using the given metric(s) that you registered in a previous section.\n",
    "\n"
   ]
  },
  {
   "cell_type": "code",
   "execution_count": null,
   "metadata": {
    "collapsed": false
   },
   "outputs": [],
   "source": [
    "from substrafl.nodes import TestDataNode\n",
    "from substrafl.evaluation_strategy import EvaluationStrategy\n",
    "\n",
    "# Create the Test Data Nodes (or testing tasks) and save them in a list\n",
    "test_data_nodes = [\n",
    "    TestDataNode(\n",
    "        organization_id=org_id,\n",
    "        data_manager_key=dataset_keys[org_id],\n",
    "        data_sample_keys=[test_datasample_keys[org_id]],\n",
    "    )\n",
    "    for org_id in DATA_PROVIDER_ORGS_ID\n",
    "]\n",
    "\n",
    "\n",
    "# Test at the end of every round\n",
    "my_eval_strategy = EvaluationStrategy(test_data_nodes=test_data_nodes, eval_frequency=1)"
   ]
  },
  {
   "cell_type": "markdown",
   "metadata": {},
   "source": [
    "## Running the experiment\n",
    "\n",
    "As a last step before launching our experiment, we need to specify the third parties dependencies required to run it.\n",
    "The [Dependency](https://docs.substra.org/en/stable/substrafl_doc/api/dependency.html) object is instantiated in order to install the right libraries in\n",
    "the Python environment of each organization.\n",
    "\n",
    "The CPU torch version is installed here to have a `Dependency` object as light as possible as we don't use GPUs (`disable_gpu` set to `True`). Remove the `--extra-index-url` to install the cuda torch version."
   ]
  },
  {
   "cell_type": "code",
   "execution_count": null,
   "metadata": {
    "collapsed": false
   },
   "outputs": [],
   "source": [
    "from substrafl.dependency import Dependency\n",
    "\n",
    "dependencies = Dependency(pypi_dependencies=[\"numpy==1.26.4\", \"scikit-learn==1.5.0\", \"torch==2.2.1\", \"--extra-index-url https://download.pytorch.org/whl/cpu\"])"
   ]
  },
  {
   "cell_type": "markdown",
   "metadata": {},
   "source": [
    "We now have all the necessary objects to launch our experiment. Please see a summary below of all the objects we created so far:\n",
    "\n",
    "- A [Client](https://docs.substra.org/en/stable/documentation/references/sdk.html#client) to add or retrieve the assets of our experiment, using their keys to\n",
    "  identify them.\n",
    "- An [Torch Algorithms](https://docs.substra.org/en/stable/substrafl_doc/api/algorithms.html#torch-algorithms) to define the training parameters *(optimizer, train\n",
    "  function, predict function, etc...)*.\n",
    "- A [Strategies](https://docs.substra.org/en/stable/substrafl_doc/api/strategies.html#strategies), to specify how to train the model on\n",
    "  distributed data.\n",
    "- [Train data nodes](https://docs.substra.org/en/stable/substrafl_doc/api/nodes.html#traindatanode) to indicate on which data to train.\n",
    "- An [Evaluation Strategy](https://docs.substra.org/en/stable/substrafl_doc/api/evaluation_strategy.html#evaluation-strategy), to define where and at which frequency we\n",
    "  evaluate the model.\n",
    "- An [Aggregation Node](https://docs.substra.org/en/stable/substrafl_doc/api/nodes.html#aggregationnode), to specify the organization on which the aggregation operation\n",
    "  will be computed.\n",
    "- The **number of rounds**, a round being defined by a local training step followed by an aggregation operation.\n",
    "- An **experiment folder** to save a summary of the operation made.\n",
    "- The [Dependency](https://docs.substra.org/en/stable/substrafl_doc/api/dependency.html) to define the libraries on which the experiment needs to run.\n",
    "\n"
   ]
  },
  {
   "cell_type": "code",
   "execution_count": null,
   "metadata": {
    "collapsed": false
   },
   "outputs": [],
   "source": [
    "from substrafl.experiment import execute_experiment\n",
    "import logging\n",
    "import substrafl\n",
    "\n",
    "substrafl.set_logging_level(loglevel=logging.ERROR)\n",
    "# A round is defined by a local training step followed by an aggregation operation\n",
    "NUM_ROUNDS = 3\n",
    "\n",
    "compute_plan = execute_experiment(\n",
    "    client=clients[ALGO_ORG_ID],\n",
    "    strategy=strategy,\n",
    "    train_data_nodes=train_data_nodes,\n",
    "    evaluation_strategy=my_eval_strategy,\n",
    "    aggregation_node=aggregation_node,\n",
    "    num_rounds=NUM_ROUNDS,\n",
    "    experiment_folder=str(pathlib.Path.cwd() / \"tmp\" / \"experiment_summaries\"),\n",
    "    dependencies=dependencies,\n",
    "    clean_models=False,\n",
    "    name=\"MNIST documentation example\",\n",
    ")"
   ]
  },
  {
   "cell_type": "markdown",
   "metadata": {},
   "source": [
    "The compute plan created is composed of 21 tasks:\n",
    "\n",
    "* For each local training step, we create 2 tasks per organisation: training + evaluation -> 2 tasks.\n",
    "* We are training on 2 data organizations; for each round, we have 2 * 2 local tasks + 1 aggregation task -> 5 tasks.\n",
    "* We are training for 3 rounds: 3 * 5 -> 15 tasks.\n",
    "* Before the first local training step, there is an initialization step on each data organization: 15 + 2 -> 17 tasks.\n",
    "* After the last aggregation step, there are two more tasks: applying the last updates from the aggregator + evaluation, on both organizations: 17 + 2 * 2 -> 21 tasks\n",
    "\n"
   ]
  },
  {
   "cell_type": "markdown",
   "metadata": {},
   "source": [
    "## Explore the results"
   ]
  },
  {
   "cell_type": "code",
   "execution_count": null,
   "metadata": {
    "collapsed": false
   },
   "outputs": [],
   "source": [
    "# The results will be available once the compute plan is completed\n",
    "client_0.wait_compute_plan(compute_plan.key)"
   ]
  },
  {
   "cell_type": "markdown",
   "metadata": {},
   "source": [
    "### List results"
   ]
  },
  {
   "cell_type": "code",
   "execution_count": null,
   "metadata": {
    "collapsed": false
   },
   "outputs": [],
   "source": [
    "import pandas as pd\n",
    "\n",
    "performances_df = pd.DataFrame(client.get_performances(compute_plan.key).model_dump())\n",
    "print(\"\\nPerformance Table: \\n\")\n",
    "print(performances_df[[\"worker\", \"round_idx\", \"identifier\", \"performance\"]])"
   ]
  },
  {
   "cell_type": "markdown",
   "metadata": {},
   "source": [
    "### Plot results"
   ]
  },
  {
   "cell_type": "code",
   "execution_count": null,
   "metadata": {
    "collapsed": false
   },
   "outputs": [],
   "source": [
    "import matplotlib.pyplot as plt\n",
    "\n",
    "fig, axs = plt.subplots(1, 2, figsize=(12, 6))\n",
    "fig.suptitle(\"Test dataset results\")\n",
    "\n",
    "axs[0].set_title(\"Accuracy\")\n",
    "axs[1].set_title(\"ROC AUC\")\n",
    "\n",
    "for ax in axs.flat:\n",
    "    ax.set(xlabel=\"Rounds\", ylabel=\"Score\")\n",
    "\n",
    "\n",
    "for org_id in DATA_PROVIDER_ORGS_ID:\n",
    "    org_df = performances_df[performances_df[\"worker\"] == org_id]\n",
    "    acc_df = org_df[org_df[\"identifier\"] == \"Accuracy\"]\n",
    "    axs[0].plot(acc_df[\"round_idx\"], acc_df[\"performance\"], label=org_id)\n",
    "\n",
    "    auc_df = org_df[org_df[\"identifier\"] == \"ROC AUC\"]\n",
    "    axs[1].plot(auc_df[\"round_idx\"], auc_df[\"performance\"], label=org_id)\n",
    "\n",
    "plt.legend(loc=\"lower right\")\n",
    "plt.show()"
   ]
  },
  {
   "cell_type": "markdown",
   "metadata": {},
   "source": [
    "### Download a model\n",
    "\n",
    "After the experiment, you might be interested in downloading your trained model.\n",
    "To do so, you will need the source code in order to reload your code architecture in memory.\n",
    "You have the option to choose the client and the round you are interested in downloading.\n",
    "\n",
    "If `round_idx` is set to `None`, the last round will be selected by default.\n",
    "\n"
   ]
  },
  {
   "cell_type": "code",
   "execution_count": null,
   "metadata": {
    "collapsed": false
   },
   "outputs": [],
   "source": [
    "from substrafl.model_loading import download_algo_state\n",
    "\n",
    "client_to_download_from = DATA_PROVIDER_ORGS_ID[0]\n",
    "round_idx = None\n",
    "\n",
    "algo = download_algo_state(\n",
    "    client=clients[client_to_download_from],\n",
    "    compute_plan_key=compute_plan.key,\n",
    "    round_idx=round_idx,\n",
    ")\n",
    "\n",
    "model = algo.model\n",
    "\n",
    "print(model)"
   ]
  }
 ],
 "metadata": {
  "kernelspec": {
   "display_name": "Python 3",
   "language": "python",
   "name": "python3"
  },
  "language_info": {
   "codemirror_mode": {
    "name": "ipython",
    "version": 3
   },
   "file_extension": ".py",
   "mimetype": "text/x-python",
   "name": "python",
   "nbconvert_exporter": "python",
   "pygments_lexer": "ipython3",
   "version": "3.11.6"
  }
 },
 "nbformat": 4,
 "nbformat_minor": 0
}
